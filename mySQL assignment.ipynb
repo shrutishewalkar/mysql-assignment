{
 "cells": [
  {
   "cell_type": "markdown",
   "id": "cf2726a4-af63-473f-91dd-f12c9c3a5b87",
   "metadata": {},
   "source": [
    "Que1: what is a database? difference between SQL and NOSQL databases."
   ]
  },
  {
   "cell_type": "markdown",
   "id": "7120fa90-c883-4267-a2de-4ffc04721ef5",
   "metadata": {},
   "source": [
    "Ans: A database is an organized collection of structured information , or data, typically stored electronically in a computer system . a database is usually controlled by a database management system"
   ]
  },
  {
   "cell_type": "markdown",
   "id": "37cf1ac6-3f33-43fa-ac5e-02aa5cb76ed9",
   "metadata": {},
   "source": [
    "SQL is the programming language used to interface with relational databases. (Relational databases model data as records in rows and tables with logical links between them). NOSQL is a class of DBMs that are non-relational and generally do not use SQL."
   ]
  },
  {
   "cell_type": "markdown",
   "id": "26b995b1-f877-4d09-81a0-bced0ce9162f",
   "metadata": {},
   "source": [
    "Que2: what is DDL? explain why CREATE, DROP , ALTER , TRUNCATE are used with an example."
   ]
  },
  {
   "cell_type": "markdown",
   "id": "464d38c6-4259-4ada-b070-9184231cbf07",
   "metadata": {},
   "source": [
    "Ans: Data definaition Language is a subset of SQL . it is a language for describing data and its relationships in a database.you can generate DDL in a script for database object to:keep a snapshot of the database structure."
   ]
  },
  {
   "cell_type": "markdown",
   "id": "279eaa6c-637f-47de-a21a-2bfddb76734f",
   "metadata": {},
   "source": [
    "CREATE: The CREATE TABLE drop command creates a new table in a database. "
   ]
  },
  {
   "cell_type": "markdown",
   "id": "2b5e4155-7de6-4da9-b4a5-88734cea8e7c",
   "metadata": {},
   "source": [
    "DROP TABLE :drop command in sql removes table definition and all the data from one or more database tables"
   ]
  },
  {
   "cell_type": "markdown",
   "id": "e2d256e7-b2ac-4197-9ba8-8882f689c070",
   "metadata": {},
   "source": [
    "ALTER: the alter table statement is used to add ,delete,or modify columns in an existing table.the alther table statement is also used to add and drop various constraints on an existing table."
   ]
  },
  {
   "cell_type": "markdown",
   "id": "4f165ada-0e03-461f-a0b9-230963cd21c6",
   "metadata": {},
   "source": [
    "TRUNCATE:The trunket table command is used to delete complete data fron an existing table."
   ]
  },
  {
   "cell_type": "markdown",
   "id": "bc780ccf-a2e7-4535-a353-dd93a15a3172",
   "metadata": {},
   "source": [
    "Que3: what is DML?explain INSERT, UPDATE ,DELETE with an example"
   ]
  },
  {
   "cell_type": "markdown",
   "id": "9a0668f2-98f0-43b0-8516-4dbdfd607d0d",
   "metadata": {
    "tags": []
   },
   "source": [
    "Data Manipulation Language refers to a computer programming language that allows you to add(insert), delete(delete), and alter (update) data in a database. a DML is typically a sublanguage of a larger database language like SQL with the  DML containing some of the languages operators."
   ]
  },
  {
   "cell_type": "markdown",
   "id": "3d556aab-3ba9-49ef-8002-0c8199645f0e",
   "metadata": {},
   "source": [
    "INSERT:  the insert command used for inserting one or more rows into a database table with specified table column values."
   ]
  },
  {
   "cell_type": "markdown",
   "id": "d66dbefd-b083-4530-8020-9c2f928efc89",
   "metadata": {},
   "source": [
    "UPDATE: the update statement changes the data of one or more records in a table"
   ]
  },
  {
   "cell_type": "markdown",
   "id": "061a1a50-8e09-448f-b0d1-7091904929e8",
   "metadata": {},
   "source": [
    "DELETE: delete command is uesd to delete existing records from a table. using this you can either delete specific records based on a condition or all the records from a table"
   ]
  },
  {
   "cell_type": "markdown",
   "id": "50b5f076-e1f4-4e75-9e2e-6ac02c7bbfad",
   "metadata": {},
   "source": [
    "Que 4: what is DQL ? explain SELECT with an ex"
   ]
  },
  {
   "cell_type": "markdown",
   "id": "703189b4-0c17-4145-b223-ba7831b5944b",
   "metadata": {},
   "source": [
    "ans: Data Query Language is a part of nbase grouping  of SQL sub language .the sublanguage are mainy categorized into four categories: a data query language (DQL), a data control language(DCL),data manipulating language (DML)"
   ]
  },
  {
   "cell_type": "markdown",
   "id": "7c570dc7-f59b-4d03-8123-27c5b9c51e16",
   "metadata": {},
   "source": [
    "SELECT: an select statement retrieves records from a database table according to clauses that specify criteria."
   ]
  },
  {
   "cell_type": "markdown",
   "id": "6e9bbbfa-e022-4b87-bf26-8d60fa33f1b6",
   "metadata": {},
   "source": [
    "Que 5: explain primary key and foreign key"
   ]
  },
  {
   "cell_type": "markdown",
   "id": "d059998b-4858-4f5a-b6b4-f5d7421da0d8",
   "metadata": {},
   "source": [
    "Ans: A primary key generally focuses on the uniqueness of the table . it assures the value in the specific coloumn is unique. A foreign key is generally used to build a relationship between the two tables."
   ]
  },
  {
   "cell_type": "markdown",
   "id": "7b97b894-8798-44fa-b6bf-958cc56a99e4",
   "metadata": {},
   "source": [
    "Que6 : give the order of executing of SQL clauses in an SQL query."
   ]
  },
  {
   "cell_type": "markdown",
   "id": "00fcca0c-4516-470b-988e-7405080f26b8",
   "metadata": {},
   "source": [
    "1. FROM 2. WHERE , 3. GROUP By , 4. HAVING , 5. SELECT , 6.ORDER BY, 7.LIMIT"
   ]
  },
  {
   "cell_type": "markdown",
   "id": "688c5e0f-8675-4d7f-820a-5a6920ec33e2",
   "metadata": {},
   "source": [
    "Que 7. write a code program to connect SQL to python. explain the cursor() , execute()method"
   ]
  },
  {
   "cell_type": "markdown",
   "id": "31bdc334-af4f-420b-80f9-7ecb7f62c4f7",
   "metadata": {},
   "source": [
    "1.import mysql.connector.\n",
    "2.#create thr connection object.\n",
    "3.myconn=mysql.connector.connect(host=\"localhost\",user=\"root\",passwd=\"google\",database=\"mydb\")\n",
    "4.#printing the connection object.\n",
    "5. print(myconn)\n",
    "6.#creating thr cursor object\n",
    "7.cur=myconn.cursor()\n",
    "8.print(cur)"
   ]
  },
  {
   "cell_type": "markdown",
   "id": "02ce05d1-b142-4301-9c92-2aee43698bae",
   "metadata": {},
   "source": [
    "cursor():cursor is a datebase object to retrieve data from a result set one row at a time, instead of the T-SQL command that operate an aii the row un the result set at on e time. we use ac cursor when need to update records in a database table in singleton fashion means row by row"
   ]
  },
  {
   "cell_type": "markdown",
   "id": "58af54af-3d8d-405f-975a-ac9d42c18891",
   "metadata": {},
   "source": [
    "Execute(): execute method executes a specific query.sql statement , stored procesure ,or provider specific text"
   ]
  },
  {
   "cell_type": "code",
   "execution_count": null,
   "id": "6a49d8ef-e490-4a41-ba4c-4e4b9ed70af9",
   "metadata": {},
   "outputs": [],
   "source": []
  }
 ],
 "metadata": {
  "kernelspec": {
   "display_name": "Python 3 (ipykernel)",
   "language": "python",
   "name": "python3"
  },
  "language_info": {
   "codemirror_mode": {
    "name": "ipython",
    "version": 3
   },
   "file_extension": ".py",
   "mimetype": "text/x-python",
   "name": "python",
   "nbconvert_exporter": "python",
   "pygments_lexer": "ipython3",
   "version": "3.10.8"
  }
 },
 "nbformat": 4,
 "nbformat_minor": 5
}
